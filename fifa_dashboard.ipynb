{
 "cells": [
  {
   "cell_type": "code",
   "id": "initial_id",
   "metadata": {
    "ExecuteTime": {
     "end_time": "2025-03-29T06:37:20.066528Z",
     "start_time": "2025-03-29T06:37:20.062528Z"
    }
   },
   "source": [
    "import pandas as pd\n",
    "import plotly.express as px\n",
    "import dash\n",
    "from dash import dcc,html,Input,Output"
   ],
   "outputs": [],
   "execution_count": 61
  },
  {
   "cell_type": "code",
   "id": "45e3864968b7d06d",
   "metadata": {
    "ExecuteTime": {
     "end_time": "2025-03-29T06:37:20.128205Z",
     "start_time": "2025-03-29T06:37:20.084190Z"
    }
   },
   "source": [
    "data = {\n",
    "    \"Year\": [\n",
    "        1930, 1934, 1938, 1950, 1954, 1958, 1962, 1966, 1970, 1974, 1978,\n",
    "        1982, 1986, 1990, 1994, 1998, 2002, 2006, 2010, 2014, 2018, 2022\n",
    "    ],\n",
    "    \"Winner\": [\n",
    "        \"Uruguay\", \"Italy\", \"Italy\", \"Uruguay\", \"West Germany\", \"Brazil\", \"Brazil\", \"England\",\n",
    "        \"Brazil\", \"West Germany\", \"Argentina\", \"Italy\", \"Argentina\", \"West Germany\", \"Brazil\",\n",
    "        \"France\", \"Brazil\", \"Italy\", \"Spain\", \"Germany\", \"France\", \"Argentina\"\n",
    "    ],\n",
    "    \"Runner-Up\": [\n",
    "        \"Argentina\", \"Czechoslovakia\", \"Hungary\", \"Brazil\", \"Hungary\", \"Sweden\", \"Czechoslovakia\", \"West Germany\",\n",
    "        \"Italy\", \"Netherlands\", \"Netherlands\", \"West Germany\", \"West Germany\", \"Argentina\", \"Italy\",\n",
    "        \"Brazil\", \"Germany\", \"France\", \"Netherlands\", \"Argentina\", \"Croatia\", \"France\"\n",
    "    ]\n",
    "}\n",
    "# This is all the  countries that have won a world cup from wikipedia\n",
    "df = pd.DataFrame(data)\n",
    "\n",
    "# convert west germany to germany\n",
    "country_map = {\"West Germany\": \"Germany\"}\n",
    "df.replace(country_map, inplace=True)\n",
    "\n",
    "# Count number of wins\n",
    "winnercount = df[\"Winner\"].value_counts().reset_index()\n",
    "winnercount.columns = [\"Winner\", \"Count\"]\n",
    "\n",
    "# Dash App Setup\n",
    "app = dash.Dash(__name__)\n",
    "\n",
    "app.layout = html.Div([\n",
    "    html.H1(\"FIFA World Cup Dashboard\", style={\"textAlign\": \"center\"}),\n",
    "\n",
    "    html.Div([\n",
    "        html.H2(\"World Cup Wins by Country (Choropleth Map)\"),\n",
    "        dcc.Graph(id='choropleth-map')\n",
    "    ], style={\"marginBottom\": 50}),\n",
    "\n",
    "    html.Div([\n",
    "        html.Label(\"Select a country to view number of wins:\"),\n",
    "        dcc.Dropdown(\n",
    "            id=\"country-dropdown\",\n",
    "            options=[{\"label\": c, \"value\": c} for c in sorted(winnercount[\"Winner\"].unique())],\n",
    "            value=\"Brazil\"\n",
    "        ),\n",
    "        html.Div(id='country-output', style={\"marginTop\": 10})\n",
    "    ], style={\"marginBottom\": 50}),\n",
    "\n",
    "    html.Div([\n",
    "        html.Label(\"Select a World Cup year to view winner and runner-up:\"),\n",
    "        dcc.Dropdown(\n",
    "            id='year-dropdown',\n",
    "            options=[{'label': str(y), 'value': y} for y in sorted(df['Year'])],\n",
    "            value=2022\n",
    "        ),\n",
    "        html.Div(id='year-output', style={\"marginTop\": 10})\n",
    "    ])\n",
    "])\n",
    "\n",
    "# Callback to update choropleth map\n",
    "@app.callback(\n",
    "    Output('choropleth-map', 'figure'),\n",
    "    Input('country-dropdown', 'value')\n",
    ")\n",
    "def update_choropleth(_):\n",
    "    fig = px.choropleth(\n",
    "        winnercount,\n",
    "        locations=\"Winner\",\n",
    "        locationmode=\"country names\",\n",
    "        color=\"Count\",\n",
    "        color_continuous_scale=\"Blues\",\n",
    "        title=\"Countries that have won the FIFA World Cup\"\n",
    "    )\n",
    "    return fig\n",
    "\n",
    "# Callback to show number of wins\n",
    "@app.callback(\n",
    "    Output('country-output', 'children'),\n",
    "    Input('country-dropdown', 'value')\n",
    ")\n",
    "def update_country_output(selected_country):\n",
    "    wins = winnercount[winnercount['Winner'] == selected_country]['Count'].values[0]\n",
    "    return f\"{selected_country} has won the FIFA World Cup {wins} time(s).\"\n",
    "\n",
    "# Callback to show winner and runner-up of a selected year\n",
    "@app.callback(\n",
    "    Output('year-output', 'children'),\n",
    "    Input('year-dropdown', 'value')\n",
    ")\n",
    "def update_year_output(selected_year):\n",
    "    row = df[df['Year'] == selected_year].iloc[0] # properly get the correct year and country wins\n",
    "    return f\"In {selected_year}, the winner was {row['Winner']} and the runner-up was {row['Runner-Up']}.\"\n",
    "\n",
    "# Run app\n",
    "if __name__ == '__main__':\n",
    "    app.run(debug=True,port=8887)\n"
   ],
   "outputs": [
    {
     "data": {
      "text/plain": [
       "<IPython.lib.display.IFrame at 0x1fb03d63f50>"
      ],
      "text/html": [
       "\n",
       "        <iframe\n",
       "            width=\"100%\"\n",
       "            height=\"650\"\n",
       "            src=\"http://127.0.0.1:8887/\"\n",
       "            frameborder=\"0\"\n",
       "            allowfullscreen\n",
       "            \n",
       "        ></iframe>\n",
       "        "
      ]
     },
     "metadata": {},
     "output_type": "display_data"
    }
   ],
   "execution_count": 62
  }
 ],
 "metadata": {
  "kernelspec": {
   "display_name": "Python 3 (ipykernel)",
   "language": "python",
   "name": "python3"
  },
  "language_info": {
   "codemirror_mode": {
    "name": "ipython",
    "version": 3
   },
   "file_extension": ".py",
   "mimetype": "text/x-python",
   "name": "python",
   "nbconvert_exporter": "python",
   "pygments_lexer": "ipython3",
   "version": "3.12.6"
  }
 },
 "nbformat": 4,
 "nbformat_minor": 5
}
